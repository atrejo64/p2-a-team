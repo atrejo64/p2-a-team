{
 "cells": [
  {
   "cell_type": "code",
   "execution_count": 1,
   "id": "e8f3c569-6284-4825-87a5-1b59cad37537",
   "metadata": {},
   "outputs": [],
   "source": [
    "import pandas as pd\n",
    "import torch\n",
    "import matplotlib.pyplot as plt"
   ]
  },
  {
   "cell_type": "code",
   "execution_count": 2,
   "id": "8cd37058-5abc-460f-adb6-31cbbf48c769",
   "metadata": {},
   "outputs": [],
   "source": [
    "test = pd.read_csv(\"test.csv\")\n",
    "train = pd.read_csv(\"train.csv\")"
   ]
  },
  {
   "cell_type": "code",
   "execution_count": 3,
   "id": "e0538486-bb34-4d6c-bab8-13512b5f45df",
   "metadata": {},
   "outputs": [],
   "source": [
    "test_x = test.iloc[:,:-1]\n",
    "test_y = test.iloc[:,-1:]\n",
    "train_x = train.iloc[:,:-1]\n",
    "train_y = train.iloc[:,-1:]"
   ]
  },
  {
   "cell_type": "code",
   "execution_count": 4,
   "id": "7f17e556-6d0d-484b-bcb1-e41d2e0a4689",
   "metadata": {},
   "outputs": [],
   "source": [
    "testX = torch.from_numpy(test_x.values).to(torch.float64)\n",
    "testY = torch.from_numpy(test_y.values).to(torch.float64)\n",
    "trainX = torch.from_numpy(train_x.values).to(torch.float64)\n",
    "trainY = torch.from_numpy(train_y.values).to(torch.float64)"
   ]
  },
  {
   "cell_type": "code",
   "execution_count": 5,
   "id": "0ac34d5e-b94c-4f1a-88d3-05ddbc28b4b3",
   "metadata": {},
   "outputs": [
    {
     "data": {
      "text/plain": [
       "tensor([[3.],\n",
       "        [2.],\n",
       "        [9.],\n",
       "        ...,\n",
       "        [5.],\n",
       "        [2.],\n",
       "        [5.]], dtype=torch.float64)"
      ]
     },
     "execution_count": 5,
     "metadata": {},
     "output_type": "execute_result"
    }
   ],
   "source": [
    "trainY"
   ]
  },
  {
   "cell_type": "code",
   "execution_count": 6,
   "id": "274e6e5b-479b-4499-8d18-85c625c743da",
   "metadata": {},
   "outputs": [
    {
     "data": {
      "text/plain": [
       "83520"
      ]
     },
     "execution_count": 6,
     "metadata": {},
     "output_type": "execute_result"
    }
   ],
   "source": [
    "#Q1: about how many bytes does trainX consume?\n",
    "trainX.nelement() * trainX.element_size()"
   ]
  },
  {
   "cell_type": "code",
   "execution_count": 7,
   "id": "a68c7041-bec4-4f94-8140-649609b6acf0",
   "metadata": {
    "editable": true,
    "slideshow": {
     "slide_type": ""
    },
    "tags": []
   },
   "outputs": [
    {
     "data": {
      "text/plain": [
       "0.0"
      ]
     },
     "execution_count": 7,
     "metadata": {},
     "output_type": "execute_result"
    }
   ],
   "source": [
    "#Q2: what is the biggest difference we would have any one cell if we used float16 instead of float64?\n",
    "trainX_16 = trainX.to(torch.float16)\n",
    "trainX_16 = trainX.to(torch.float64)\n",
    "\n",
    "torch.max(trainX - trainX_16).item()"
   ]
  },
  {
   "cell_type": "code",
   "execution_count": 8,
   "id": "69485c23-9416-4861-b7f7-ca3178ed34a7",
   "metadata": {},
   "outputs": [
    {
     "data": {
      "text/plain": [
       "False"
      ]
     },
     "execution_count": 8,
     "metadata": {},
     "output_type": "execute_result"
    }
   ],
   "source": [
    "#Q3: is a CUDA GPU available on your VM?\n",
    "torch.cuda.is_available()"
   ]
  },
  {
   "cell_type": "code",
   "execution_count": 9,
   "id": "db6fa748-6a80-44be-b664-2339f26aa419",
   "metadata": {},
   "outputs": [
    {
     "data": {
      "text/plain": [
       "tensor([[0.0040],\n",
       "        [0.0040],\n",
       "        [0.0040],\n",
       "        [0.0040],\n",
       "        [0.0040],\n",
       "        [0.0040],\n",
       "        [0.0300],\n",
       "        [0.0300],\n",
       "        [0.0300],\n",
       "        [0.0300]], dtype=torch.float64)"
      ]
     },
     "execution_count": 9,
     "metadata": {},
     "output_type": "execute_result"
    }
   ],
   "source": [
    "coef = torch.tensor([\n",
    "        [0.0040],\n",
    "        [0.0040],\n",
    "        [0.0040],\n",
    "        [0.0040],\n",
    "        [0.0040],\n",
    "        [0.0040], # POS_50_59_CP\n",
    "        [0.0300], # POS_60_69_CP\n",
    "        [0.0300],\n",
    "        [0.0300],\n",
    "        [0.0300]\n",
    "], dtype=trainX.dtype)\n",
    "coef"
   ]
  },
  {
   "cell_type": "code",
   "execution_count": 10,
   "id": "ed044564-dbf3-42ed-98ff-de94acead8fe",
   "metadata": {},
   "outputs": [
    {
     "data": {
      "text/plain": [
       "9.844"
      ]
     },
     "execution_count": 10,
     "metadata": {},
     "output_type": "execute_result"
    }
   ],
   "source": [
    "#Q4: what is the predicted number of deaths for the first census tract?\n",
    "(testX[0] @ coef).item()"
   ]
  },
  {
   "cell_type": "code",
   "execution_count": 11,
   "id": "d13983c8-39e6-46b5-ab8a-36feaf54dae2",
   "metadata": {},
   "outputs": [
    {
     "data": {
      "text/plain": [
       "12.073632183908048"
      ]
     },
     "execution_count": 11,
     "metadata": {},
     "output_type": "execute_result"
    }
   ],
   "source": [
    "#Q5: what is the average number of predicted deaths, over the whole testX dataset?\n",
    "torch.mean(testX @ coef).item()"
   ]
  },
  {
   "cell_type": "code",
   "execution_count": 12,
   "id": "f8be947f-3b67-47ef-8d7b-a60de166d636",
   "metadata": {},
   "outputs": [
    {
     "data": {
      "text/plain": [
       "19.0"
      ]
     },
     "execution_count": 12,
     "metadata": {},
     "output_type": "execute_result"
    }
   ],
   "source": [
    "#Q6: first, what is y when x is a tensor containing 0.0?\n",
    "x = torch.tensor(0.0)\n",
    "y = (x**2 - 8*x + 19)\n",
    "float(y)"
   ]
  },
  {
   "cell_type": "code",
   "execution_count": 13,
   "id": "e77be823-9d31-4c2a-96fe-23cb80536068",
   "metadata": {},
   "outputs": [
    {
     "data": {
      "text/plain": [
       "3.9848885536193848"
      ]
     },
     "execution_count": 13,
     "metadata": {},
     "output_type": "execute_result"
    }
   ],
   "source": [
    "#Q7: what x value minimizes y?\n",
    "x = torch.tensor(0.0, requires_grad=True)\n",
    "optimizer = torch.optim.SGD([x],lr =.1)\n",
    "\n",
    "for epoch in range(25):\n",
    "    y = ((x**2) - (8*x) + (19))\n",
    "    y.backward()\n",
    "    optimizer.step()\n",
    "    optimizer.zero_grad()\n",
    "x.item()\n"
   ]
  },
  {
   "cell_type": "code",
   "execution_count": 14,
   "id": "f7197234-1a5e-4b51-ac2e-9c86682b7f41",
   "metadata": {},
   "outputs": [
    {
     "data": {
      "text/plain": [
       "197.8007662835249"
      ]
     },
     "execution_count": 14,
     "metadata": {},
     "output_type": "execute_result"
    }
   ],
   "source": [
    "#Q8: what is the MSE (mean-square error) when we make predictions using this vector of zero coefficients?\n",
    "loss_fn = torch.nn.MSELoss()\n",
    "coef = torch.zeros((10,1),dtype=torch.float64)\n",
    "preds = trainX @ coef\n",
    "loss = loss_fn(preds, trainY)\n",
    "loss.item()"
   ]
  },
  {
   "cell_type": "code",
   "execution_count": 15,
   "id": "3d5e77e3-aab5-4283-a602-12466454382d",
   "metadata": {},
   "outputs": [],
   "source": [
    "torch.manual_seed(544)\n",
    "ds = torch.utils.data.TensorDataset(trainX, trainY)\n",
    "dl = torch.utils.data.DataLoader(ds, batch_size=50, shuffle=True)"
   ]
  },
  {
   "cell_type": "code",
   "execution_count": 16,
   "id": "c37b24d3-2cc3-4e2f-b406-e06df17c07bc",
   "metadata": {},
   "outputs": [],
   "source": [
    "loss_fn = torch.nn.MSELoss()\n",
    "\n",
    "coef = torch.zeros((10, 1), dtype=torch.float64, requires_grad=True)\n",
    "optimizer = torch.optim.SGD([coef], lr=0.000002)\n",
    "\n",
    "for epoch in range(500):\n",
    "    for batchX, batchY in dl:\n",
    "        predictions = batchX @ coef\n",
    "        loss = loss_fn(predictions, batchY)\n",
    "        loss.backward()\n",
    "        optimizer.step()\n",
    "        optimizer.zero_grad()\n"
   ]
  },
  {
   "cell_type": "code",
   "execution_count": 17,
   "id": "4329beb0-f613-40f4-b71e-b65d3ac2d1a5",
   "metadata": {},
   "outputs": [
    {
     "data": {
      "text/plain": [
       "26.8113940147193"
      ]
     },
     "execution_count": 17,
     "metadata": {},
     "output_type": "execute_result"
    }
   ],
   "source": [
    "#Q9: what is the MSE over the training data, using the coefficients resulting from the above training?\n",
    "X,Y = ds[:]\n",
    "loss_fn(X @ coef, Y).item()"
   ]
  },
  {
   "cell_type": "code",
   "execution_count": 18,
   "id": "8f9ba907-8138-49a7-be03-af67bd7e0f96",
   "metadata": {},
   "outputs": [],
   "source": [
    "ds = torch.utils.data.TensorDataset(testX, testY)\n",
    "dl = torch.utils.data.DataLoader(ds, batch_size=50, shuffle=True)\n",
    "\n"
   ]
  },
  {
   "cell_type": "code",
   "execution_count": 19,
   "id": "fe5d992d-637f-40ac-b3e3-714c6e230b84",
   "metadata": {},
   "outputs": [
    {
     "data": {
      "text/plain": [
       "29.05854692548551"
      ]
     },
     "execution_count": 19,
     "metadata": {},
     "output_type": "execute_result"
    }
   ],
   "source": [
    "#Q10: what is the MSE over the test data?\n",
    "X,Y = ds[:]\n",
    "loss_fn(X @ coef, Y).item()"
   ]
  },
  {
   "cell_type": "code",
   "execution_count": null,
   "id": "01ce2a22-4c7b-45a8-ad83-c4245f0b0195",
   "metadata": {},
   "outputs": [],
   "source": []
  }
 ],
 "metadata": {
  "kernelspec": {
   "display_name": "Python 3 (ipykernel)",
   "language": "python",
   "name": "python3"
  },
  "language_info": {
   "codemirror_mode": {
    "name": "ipython",
    "version": 3
   },
   "file_extension": ".py",
   "mimetype": "text/x-python",
   "name": "python",
   "nbconvert_exporter": "python",
   "pygments_lexer": "ipython3",
   "version": "3.11.5"
  }
 },
 "nbformat": 4,
 "nbformat_minor": 5
}
